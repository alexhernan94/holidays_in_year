{
  "nbformat": 4,
  "nbformat_minor": 0,
  "metadata": {
    "colab": {
      "name": "dias_festivos_año.ipynb",
      "provenance": [],
      "collapsed_sections": [],
      "authorship_tag": "ABX9TyOdsQAFyJXxTc0Uv6tQInjC",
      "include_colab_link": true
    },
    "kernelspec": {
      "name": "python3",
      "display_name": "Python 3"
    },
    "language_info": {
      "name": "python"
    }
  },
  "cells": [
    {
      "cell_type": "markdown",
      "metadata": {
        "id": "view-in-github",
        "colab_type": "text"
      },
      "source": [
        "<a href=\"https://colab.research.google.com/github/alexhernan94/holidays_in_year/blob/main/dias_festivos_a%C3%B1o.ipynb\" target=\"_parent\"><img src=\"https://colab.research.google.com/assets/colab-badge.svg\" alt=\"Open In Colab\"/></a>"
      ]
    },
    {
      "cell_type": "code",
      "source": [
        "!pip install workalendar"
      ],
      "metadata": {
        "colab": {
          "base_uri": "https://localhost:8080/"
        },
        "id": "XZcVu3Ys0UlQ",
        "outputId": "17f8c10d-019c-4380-e120-8d941f09ca71"
      },
      "execution_count": 1,
      "outputs": [
        {
          "output_type": "stream",
          "name": "stdout",
          "text": [
            "Collecting workalendar\n",
            "  Downloading workalendar-16.3.0-py3-none-any.whl (208 kB)\n",
            "\u001b[K     |████████████████████████████████| 208 kB 7.2 MB/s \n",
            "\u001b[?25hCollecting lunardate\n",
            "  Downloading lunardate-0.2.0-py3-none-any.whl (5.6 kB)\n",
            "Requirement already satisfied: convertdate in /usr/local/lib/python3.7/dist-packages (from workalendar) (2.4.0)\n",
            "Collecting pyluach\n",
            "  Downloading pyluach-1.4.1-py3-none-any.whl (18 kB)\n",
            "Collecting backports.zoneinfo\n",
            "  Downloading backports.zoneinfo-0.2.1-cp37-cp37m-manylinux1_x86_64.whl (70 kB)\n",
            "\u001b[K     |████████████████████████████████| 70 kB 8.9 MB/s \n",
            "\u001b[?25hRequirement already satisfied: python-dateutil in /usr/local/lib/python3.7/dist-packages (from workalendar) (2.8.2)\n",
            "Requirement already satisfied: importlib-metadata in /usr/local/lib/python3.7/dist-packages (from workalendar) (4.11.3)\n",
            "Requirement already satisfied: pymeeus<=1,>=0.3.13 in /usr/local/lib/python3.7/dist-packages (from convertdate->workalendar) (0.5.11)\n",
            "Requirement already satisfied: zipp>=0.5 in /usr/local/lib/python3.7/dist-packages (from importlib-metadata->workalendar) (3.7.0)\n",
            "Requirement already satisfied: typing-extensions>=3.6.4 in /usr/local/lib/python3.7/dist-packages (from importlib-metadata->workalendar) (3.10.0.2)\n",
            "Requirement already satisfied: six>=1.5 in /usr/local/lib/python3.7/dist-packages (from python-dateutil->workalendar) (1.15.0)\n",
            "Installing collected packages: pyluach, lunardate, backports.zoneinfo, workalendar\n",
            "Successfully installed backports.zoneinfo-0.2.1 lunardate-0.2.0 pyluach-1.4.1 workalendar-16.3.0\n"
          ]
        }
      ]
    },
    {
      "cell_type": "code",
      "source": [
        "import pandas as pd\n",
        "from workalendar.europe.spain import CommunityofMadrid"
      ],
      "metadata": {
        "id": "cIHJAcO00XKY"
      },
      "execution_count": 15,
      "outputs": []
    },
    {
      "cell_type": "code",
      "source": [
        "\n",
        "cal = CommunityofMadrid()\n",
        "feriados=cal.holidays(2023)\n",
        "\n",
        "df=pd.DataFrame(feriados,columns=['dia','veces_festivo'])\n",
        "df['dia']=pd.to_datetime(df['dia'])\n",
        "df['dia'] = df['dia'].dt.day_name()\n",
        "df=df.groupby('dia').count().sort_values('veces_festivo',ascending = False)\n",
        "print(df)"
      ],
      "metadata": {
        "colab": {
          "base_uri": "https://localhost:8080/"
        },
        "id": "RCEgC7JL0p4_",
        "outputId": "bcd188b2-e55c-4ef6-e15c-649596366fc6"
      },
      "execution_count": 18,
      "outputs": [
        {
          "output_type": "stream",
          "name": "stdout",
          "text": [
            "           veces_festivo\n",
            "dia                     \n",
            "Friday                 3\n",
            "Monday                 2\n",
            "Thursday               2\n",
            "Tuesday                2\n",
            "Wednesday              2\n",
            "Sunday                 1\n"
          ]
        }
      ]
    }
  ]
}